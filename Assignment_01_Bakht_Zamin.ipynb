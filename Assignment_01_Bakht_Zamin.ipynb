{
  "nbformat": 4,
  "nbformat_minor": 0,
  "metadata": {
    "colab": {
      "provenance": [],
      "toc_visible": true,
      "authorship_tag": "ABX9TyMk6qvbGEk0lE3Uiie9Z7ZQ",
      "include_colab_link": true
    },
    "kernelspec": {
      "name": "python3",
      "display_name": "Python 3"
    },
    "language_info": {
      "name": "python"
    }
  },
  "cells": [
    {
      "cell_type": "markdown",
      "metadata": {
        "id": "view-in-github",
        "colab_type": "text"
      },
      "source": [
        "<a href=\"https://colab.research.google.com/github/BOM-Developer/AI-data-science/blob/main/Assignment_01_Bakht_Zamin.ipynb\" target=\"_parent\"><img src=\"https://colab.research.google.com/assets/colab-badge.svg\" alt=\"Open In Colab\"/></a>"
      ]
    },
    {
      "cell_type": "markdown",
      "source": [
        "# Assignment # 01\n",
        "Hope to Skills\n",
        "Free Artificial Intelligence Advance Course\n",
        "\n",
        "  ###   Question No.1   \n",
        "\n",
        "  Create a list named \"fruits\" containing three different fruits and display its items\n",
        "using for loop"
      ],
      "metadata": {
        "id": "2MZxmV5YkKFR"
      }
    },
    {
      "cell_type": "code",
      "source": [
        "#   >>>>>>>>>>>  Answer <<<<<<<<<\n",
        "\n",
        "# Creating a list \"fruits\" containing three different fruits\n",
        "fruits = ['apple', 'banana', 'orange']\n",
        "\n",
        "# Displaying items with  for loop\n",
        "print(\"The following are fruits of the list:\")\n",
        "for fruit in fruits:\n",
        "    print(fruit)\n"
      ],
      "metadata": {
        "colab": {
          "base_uri": "https://localhost:8080/"
        },
        "id": "KRf-DGnfw2mr",
        "outputId": "aa51ebe8-15ba-440c-926c-0afa77253956"
      },
      "execution_count": null,
      "outputs": [
        {
          "output_type": "stream",
          "name": "stdout",
          "text": [
            "The following are fruits of the list:\n",
            "apple\n",
            "banana\n",
            "orange\n"
          ]
        }
      ]
    },
    {
      "cell_type": "markdown",
      "source": [
        "# Question No.2\n",
        "\n",
        "Create a tuple named \"numbers\" with five random numbers and display its item\n",
        "using for loop\n",
        "\n"
      ],
      "metadata": {
        "id": "KZdsq-FLpSob"
      }
    },
    {
      "cell_type": "code",
      "source": [
        "# >>>>>>>>>>  Answer <<<<<<<<<<<\n",
        "\n",
        "import random\n",
        "\n",
        "# Creating a tuple \"numbers\" with five random numbers\n",
        "\n",
        "numbers = tuple(random.randint(1, 45) for _ in range(5))\n",
        "\n",
        "# Display items using a for loop\n",
        "print(\"Numbers in the tuple will be:\")\n",
        "for number in numbers:\n",
        "    print(number)\n"
      ],
      "metadata": {
        "colab": {
          "base_uri": "https://localhost:8080/"
        },
        "id": "79nqf6vg3xOl",
        "outputId": "1b269f04-eb90-42fd-b862-f973ccf36c0d"
      },
      "execution_count": null,
      "outputs": [
        {
          "output_type": "stream",
          "name": "stdout",
          "text": [
            "Numbers in the tuple will be:\n",
            "31\n",
            "42\n",
            "27\n",
            "38\n",
            "5\n"
          ]
        }
      ]
    },
    {
      "cell_type": "markdown",
      "source": [
        "# Question No.3\n",
        " Create a set named \"colors\" with three different colors and display its items using\n",
        "for loop."
      ],
      "metadata": {
        "id": "iDKxljvt44V0"
      }
    },
    {
      "cell_type": "code",
      "source": [
        "# >>>>>>>>>> Answer <<<<<<<<<<\n",
        "\n",
        " #Creating a set \"colors\" with 3 different colours\n",
        "colors={'Red','Blue','Green'}\n",
        "# Display items \"colors\" in set using for loop\n",
        "print('The colors of the set are as following:')\n",
        "for color in colors:\n",
        "  print(color)\n"
      ],
      "metadata": {
        "colab": {
          "base_uri": "https://localhost:8080/"
        },
        "id": "oL-LwCfI5Lng",
        "outputId": "3c31b5a8-a1f0-44a4-9d7b-63714c97f97f"
      },
      "execution_count": null,
      "outputs": [
        {
          "output_type": "stream",
          "name": "stdout",
          "text": [
            "The colors of the set are as following:\n",
            "Red\n",
            "Green\n",
            "Blue\n"
          ]
        }
      ]
    },
    {
      "cell_type": "markdown",
      "source": [
        "# Question No.4\n",
        "\n",
        "Create a dictionary named \"student\" with the given key-value pairs"
      ],
      "metadata": {
        "id": "XPMnEwmv9SLX"
      }
    },
    {
      "cell_type": "code",
      "source": [
        "### >>>>>> Answer <<<<<<<<<<\n",
        "\n",
        "# A dictionary \"student\" with key-value pairs\n",
        "student = {\"name\": \"Sameer\",\"age\": 20, \"grade\": \"A\"}\n",
        "\n",
        "# Iterating the dictionary and displaying its keys\n",
        "print(\"Keys in the dictionary are:\")\n",
        "for key in student.keys():\n",
        "    print(key)\n",
        "\n",
        "\n",
        "# Iterating the dictionary and displaying its values\n",
        "print(\"Values in the dictionary are:\")\n",
        "for value in student.values():\n",
        "    print(value)\n",
        "\n",
        "\n"
      ],
      "metadata": {
        "colab": {
          "base_uri": "https://localhost:8080/"
        },
        "id": "ErH_q55894iK",
        "outputId": "0764bef3-cab5-432f-f2b1-94a67b9cca9d"
      },
      "execution_count": null,
      "outputs": [
        {
          "output_type": "stream",
          "name": "stdout",
          "text": [
            "Keys in the dictionary are:\n",
            "name\n",
            "age\n",
            "grade\n",
            "Values in the dictionary are:\n",
            "Sameer\n",
            "20\n",
            "A\n"
          ]
        }
      ]
    },
    {
      "cell_type": "markdown",
      "source": [
        "# Question No.5\n",
        "\n",
        "Create a multi-line string named \"poem\" with a short poem of your choice."
      ],
      "metadata": {
        "id": "yzBcHC38Ey_w"
      }
    },
    {
      "cell_type": "code",
      "source": [
        "# >>>>>>>>>> Answer <<<<<<<<<\n",
        "\n",
        "# I would like to share the first and last stanzas of my favourite poem on nature\n",
        " #by 'William WordsWorth 'poem \" Daffodils\"  in Python multi_line String.\n",
        "\n",
        "\n",
        "print(\" >>> Daffodis <<<< \")\n",
        "\n",
        "poem_daffodils=\"\"\"I wandered lonly as a cloud,\n",
        "That floats high over vales and hills,\n",
        "When all at once I saw a crowed,\n",
        "A host of golden diffodils\n",
        "\n",
        " For oft, when on my couch I lie\n",
        " In vacant or in pensive mood,\n",
        " They flash upon that inward eye\n",
        " Which is bliss of solitude;\n",
        " And then my heart with pleasure fill\n",
        " And dance with the daffodils.\"\"\"\n",
        "print(poem_daffodils)"
      ],
      "metadata": {
        "colab": {
          "base_uri": "https://localhost:8080/"
        },
        "id": "RXygpWAoFT1k",
        "outputId": "c9fd4f1b-5064-4ef4-825e-9da9fe4d62f7"
      },
      "execution_count": null,
      "outputs": [
        {
          "output_type": "stream",
          "name": "stdout",
          "text": [
            " >>> Daffodis <<<< \n",
            "I wandered lonly as a cloud,\n",
            "That floats high over vales and hills,\n",
            "When all at once I saw a crowed,\n",
            "A host of golden diffodils\n",
            "\n",
            " For oft, when on my couch I lie\n",
            " In vacant or in pensive mood,\n",
            " They flash upon that inward eye\n",
            " Which is bliss of solitude;\n",
            " And then my heart with pleasure fill\n",
            " And dance with the daffodils.\n"
          ]
        }
      ]
    },
    {
      "cell_type": "markdown",
      "source": [
        "# Question No.6\n",
        "\n",
        "Write an if statement to check if the length of the \"fruits\" list is greater than 3. If it\n",
        "is, print \"You have many fruits!"
      ],
      "metadata": {
        "id": "S7uWV2-NRAi1"
      }
    },
    {
      "cell_type": "code",
      "source": [
        "#   >>>>>>>>   Answer <<<<<<<<<<\n",
        "\n",
        "\n",
        "# Creating a fruit list with 4 fruits items\n",
        "\n",
        "fruits = ['apple', 'banana', 'orange', 'mango']\n",
        "\n",
        "# The length of the \"fruits\" list\n",
        "\n",
        "if len(fruits) > 3:\n",
        "    print(\"You have many fruits!\")\n",
        "\n"
      ],
      "metadata": {
        "colab": {
          "base_uri": "https://localhost:8080/"
        },
        "id": "QSgrsO4eRg7L",
        "outputId": "1566198e-8132-48bc-c89e-841600a50972"
      },
      "execution_count": null,
      "outputs": [
        {
          "output_type": "stream",
          "name": "stdout",
          "text": [
            "You have many fruits!\n"
          ]
        }
      ]
    },
    {
      "cell_type": "markdown",
      "source": [
        "# Question No.7                               \n",
        "\n",
        "Create a program that takes a student's numerical grade as input and prints a\n",
        "corresponding letter grade. Use if-else statements to classify the grade into\n",
        "categories such as \"A,\" \"B,\" \"C,\" \"D,\" or \"F.\""
      ],
      "metadata": {
        "id": "2GfqqpRVzo9m"
      }
    },
    {
      "cell_type": "code",
      "source": [
        "#   >>>>>>>>>>>  Answer <<<<<<<<<<<<\n",
        "\n",
        "#  Student's numerical grade as input\n",
        "\n",
        "numerical_grade = float(input(\"Enter the student's obtained marks:\"))\n",
        "\n",
        "# Classify the grade into corresponding letter grade\n",
        "if numerical_grade >= 90:\n",
        "    letter_grade = 'A'\n",
        "elif 80 <= numerical_grade <= 89:\n",
        "    letter_grade = 'B'\n",
        "elif 70 <= numerical_grade <= 79:\n",
        "    letter_grade = 'C'\n",
        "elif 60 <= numerical_grade <= 69:\n",
        "    letter_grade = 'D'\n",
        "else:\n",
        "    letter_grade = 'F'\n",
        "\n",
        "# Print the result\n",
        "print(f'The corresponding letter grade is: {letter_grade}')\n",
        "\n"
      ],
      "metadata": {
        "colab": {
          "base_uri": "https://localhost:8080/"
        },
        "id": "4kzoTXIQ0uRM",
        "outputId": "615ffcb2-8612-4ba4-d9ec-3d42b6f39dbf"
      },
      "execution_count": null,
      "outputs": [
        {
          "output_type": "stream",
          "name": "stdout",
          "text": [
            "Enter the student's obtained marks:91\n",
            "The corresponding letter grade is: A\n"
          ]
        }
      ]
    },
    {
      "cell_type": "markdown",
      "source": [
        "# Question No.8                    \n",
        "\n",
        " Create a program that takes a temperature in Celsius as input from user and\n",
        "classifies it into categories like \"Freezing,\" \"Cold,\" \"Moderate,\" \"Warm,\" or \"Hot.\"\n",
        "Use if-else statements to define the temperature ranges for each category.\n"
      ],
      "metadata": {
        "id": "f_XAqj2-3j25"
      }
    },
    {
      "cell_type": "code",
      "source": [
        " #  >>>>>>>>>>>>> Answer <<<<<<<<<<<<<<<<<\n",
        "\n",
        " # Get the temperature in Celsius as input from the user\n",
        "\n",
        "temperature_celsius = float(input(\"Enter the temperature in Celsius: \"))\n",
        "\n",
        "# Classify the temperature into corresponding categories\n",
        "if temperature_celsius < -10:\n",
        "    category = 'Freezing'\n",
        "elif -10 <= temperature_celsius < 0:\n",
        "    category = 'Cold'\n",
        "elif 0 <= temperature_celsius < 20:\n",
        "    category = 'Moderate'\n",
        "elif 20 <= temperature_celsius < 30:\n",
        "    category = 'Warm'\n",
        "else:\n",
        "    category = 'Hot'\n",
        "\n",
        "# Print the result\n",
        "print(f'The temperature is classified as: {category}')\n"
      ],
      "metadata": {
        "colab": {
          "base_uri": "https://localhost:8080/"
        },
        "id": "YTHRBltn6cbx",
        "outputId": "a3b13df4-bd9c-4a95-867c-152bd3d0d3b2"
      },
      "execution_count": null,
      "outputs": [
        {
          "output_type": "stream",
          "name": "stdout",
          "text": [
            "Enter the temperature in Celsius: 13\n",
            "The temperature is classified as: Moderate\n"
          ]
        }
      ]
    }
  ]
}