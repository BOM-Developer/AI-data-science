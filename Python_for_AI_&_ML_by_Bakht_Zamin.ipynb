{
  "nbformat": 4,
  "nbformat_minor": 0,
  "metadata": {
    "colab": {
      "provenance": [],
      "authorship_tag": "ABX9TyM/+J7lsbBUlngrOagthSJy",
      "include_colab_link": true
    },
    "kernelspec": {
      "name": "python3",
      "display_name": "Python 3"
    },
    "language_info": {
      "name": "python"
    }
  },
  "cells": [
    {
      "cell_type": "markdown",
      "metadata": {
        "id": "view-in-github",
        "colab_type": "text"
      },
      "source": [
        "<a href=\"https://colab.research.google.com/github/BOM-Developer/AI-data-science/blob/main/Python_for_AI_%26_ML_by_Bakht_Zamin.ipynb\" target=\"_parent\"><img src=\"https://colab.research.google.com/assets/colab-badge.svg\" alt=\"Open In Colab\"/></a>"
      ]
    },
    {
      "cell_type": "markdown",
      "source": [
        "Business Toolkit-Python for Data Science & ML\n",
        "\n",
        "Basic of Python[link text](https://)"
      ],
      "metadata": {
        "id": "mmzYGg9bnvB3"
      }
    },
    {
      "cell_type": "markdown",
      "source": [],
      "metadata": {
        "id": "ifZni26OyFVY"
      }
    },
    {
      "cell_type": "markdown",
      "source": [
        "#  Python Programming Basic to Advance for AI & ML\n",
        "\n",
        "# 01. What is programing language?\n",
        "Normal Language (NL) is always remained the tool of commutation among people to convey one another messages, ideas and needs for better understanding. And there are many kinds of languages e.g  Arabic, English, Urdu etc where some people are expert in some of them and other on their own. For example an Urdu speaking person want to deliver has message to an Arabic  one but both of them don’t know each other languages So the one who want to convey his message hired a third person known as compiler or interpreter  who has better understanding of both the languages and play it’s rule in the best way to remove confusion   of both of different languages speakers. Like human language (HL/NL) there is a machine language(ML) used for computer in the form of 10100101. So the way of communication between human and machine is called programming language. There are many kinds of programming languages like, HTML, Js, Python, C++ etc.\n",
        "Some of them  work as a compiler and some as interpreter."
      ],
      "metadata": {
        "id": "iK-AOeXtFsUf"
      }
    },
    {
      "cell_type": "code",
      "source": [
        "#  2. Python Interpreter and first code\n",
        "print(\"Hello World\")\n",
        "print('WELCOME! to the World of Coding')\n",
        "print('I am here with you.')\n",
        "print(\"\"\"You see me here due to your Python interpreter. Which plays\n",
        "it's role to communicate between you and the machine(computer).\n",
        "We will lead you from the very basic of Python\n",
        "for data science till the very Advance. Be stick with us \"\"\" )"
      ],
      "metadata": {
        "colab": {
          "base_uri": "https://localhost:8080/",
          "height": 245
        },
        "id": "PqKGRmvEqyLx",
        "outputId": "6b5a880d-ed0a-4cb7-b4a6-c213400447df"
      },
      "execution_count": null,
      "outputs": [
        {
          "output_type": "error",
          "ename": "TypeError",
          "evalue": "'str' object is not callable",
          "traceback": [
            "\u001b[0;31m---------------------------------------------------------------------------\u001b[0m",
            "\u001b[0;31mTypeError\u001b[0m                                 Traceback (most recent call last)",
            "\u001b[0;32m<ipython-input-26-73195070bce4>\u001b[0m in \u001b[0;36m<cell line: 2>\u001b[0;34m()\u001b[0m\n\u001b[1;32m      1\u001b[0m \u001b[0;31m#  2. Python Interpreter and first code\u001b[0m\u001b[0;34m\u001b[0m\u001b[0;34m\u001b[0m\u001b[0m\n\u001b[0;32m----> 2\u001b[0;31m \u001b[0mprint\u001b[0m\u001b[0;34m(\u001b[0m\u001b[0;34m\"Hello World\"\u001b[0m\u001b[0;34m)\u001b[0m\u001b[0;34m\u001b[0m\u001b[0;34m\u001b[0m\u001b[0m\n\u001b[0m\u001b[1;32m      3\u001b[0m \u001b[0mprint\u001b[0m\u001b[0;34m(\u001b[0m\u001b[0;34m'WELCOME! to the World of Coding'\u001b[0m\u001b[0;34m)\u001b[0m\u001b[0;34m\u001b[0m\u001b[0;34m\u001b[0m\u001b[0m\n\u001b[1;32m      4\u001b[0m \u001b[0mprint\u001b[0m\u001b[0;34m(\u001b[0m\u001b[0;34m'I am here with you.'\u001b[0m\u001b[0;34m)\u001b[0m\u001b[0;34m\u001b[0m\u001b[0;34m\u001b[0m\u001b[0m\n\u001b[1;32m      5\u001b[0m print(\"\"\"You see me here due to your Python interpreter. Which plays\n",
            "\u001b[0;31mTypeError\u001b[0m: 'str' object is not callable"
          ]
        }
      ]
    },
    {
      "cell_type": "markdown",
      "source": [
        "# 02.   Python 3 Vs Python2\n",
        "Python 2 is the old version of Python which is not capable for new and future function. Almost all of python functions are available in Python  version 3 however there is some difference in some syntax  which will show error when we execute it in version three for example when we try  the following python V2 sentence in  Python V3 sentence it will show error.\n",
        "\n",
        "name = “Ali”\n",
        "print ”hello” + name”  as it is V2 syntax\n",
        "\n",
        "•\tSo Python 3.12 bugfix 2023-10-02 2028-10 PEP 693.\n",
        "With full security and almost all library support .\n"
      ],
      "metadata": {
        "id": "CA5-qiitKC8o"
      }
    },
    {
      "cell_type": "code",
      "source": [
        "#python V2 Syntax Vs Python V3 Syntax\n",
        "#v2 = \"Ali\"\n",
        "#print \"Ali\" + v2\"\n",
        "# Version Syntax of the above one will be as follows one\n",
        "name=\"Ali\"\n",
        "print(name)\n",
        "## So When we do the former function we will use parentheses for the print action  ()"
      ],
      "metadata": {
        "colab": {
          "base_uri": "https://localhost:8080/",
          "height": 245
        },
        "id": "KWFxKNP3KSk4",
        "outputId": "93bae3f9-72f2-4708-8ff6-bdf5e3c2f8da"
      },
      "execution_count": null,
      "outputs": [
        {
          "output_type": "error",
          "ename": "TypeError",
          "evalue": "'str' object is not callable",
          "traceback": [
            "\u001b[0;31m---------------------------------------------------------------------------\u001b[0m",
            "\u001b[0;31mTypeError\u001b[0m                                 Traceback (most recent call last)",
            "\u001b[0;32m<ipython-input-29-81a72dd609ec>\u001b[0m in \u001b[0;36m<cell line: 6>\u001b[0;34m()\u001b[0m\n\u001b[1;32m      4\u001b[0m \u001b[0;31m# Version Syntax of the above one will be as follows one\u001b[0m\u001b[0;34m\u001b[0m\u001b[0;34m\u001b[0m\u001b[0m\n\u001b[1;32m      5\u001b[0m \u001b[0mname\u001b[0m\u001b[0;34m=\u001b[0m\u001b[0;34m\"Ali\"\u001b[0m\u001b[0;34m\u001b[0m\u001b[0;34m\u001b[0m\u001b[0m\n\u001b[0;32m----> 6\u001b[0;31m \u001b[0mprint\u001b[0m\u001b[0;34m(\u001b[0m\u001b[0mname\u001b[0m\u001b[0;34m)\u001b[0m\u001b[0;34m\u001b[0m\u001b[0;34m\u001b[0m\u001b[0m\n\u001b[0m\u001b[1;32m      7\u001b[0m \u001b[0;31m## So When we do the former function we will use parentheses for the print action  ()\u001b[0m\u001b[0;34m\u001b[0m\u001b[0;34m\u001b[0m\u001b[0m\n",
            "\u001b[0;31mTypeError\u001b[0m: 'str' object is not callable"
          ]
        }
      ]
    },
    {
      "cell_type": "markdown",
      "source": [
        "# 03.  Coding’s learning Formula\n",
        "If we want to get best result of our data processing we should have best knowledge of coding ethics , best practices, and related  vocabulary understanding.\n",
        "Let’s me give you a real life example of making a house.\n",
        "As we need two main things to make a house which are material and the process. As a meson you will feel difficulties to keep a labor who don’t have the basic knowledge of your tools and it’s  process . Like computer programming we also need two main things Data and Action/process.\n",
        "Data anything make sense and process when it give a concrete result after processing on it.\n",
        "So, the formula is best practices and much data type coding vocabulary.\n",
        "In print(\"hello! world\")         (\"hello! world\") is\n",
        "Data(type) which works as a bulding material AND  print is  >>> Processing/(Action )>>> which Work as to make the data functual  functionality.\n",
        "\n"
      ],
      "metadata": {
        "id": "Oc9OqB-qNXdb"
      }
    },
    {
      "cell_type": "markdown",
      "source": [],
      "metadata": {
        "id": "SkKzRirdzIcq"
      }
    },
    {
      "cell_type": "markdown",
      "source": [
        "# 5.  Data types and basic arithmetic\n",
        "There are main five data types in Pythons. They are Numaric, Bolean, Order Secuence , Unorder Sequence and NON.\n"
      ],
      "metadata": {
        "id": "wQgOuR6rO4N4"
      }
    },
    {
      "cell_type": "code",
      "source": [
        "# Data Types\n",
        "# 1. Numeric\n",
        "print( 1, 2, 3, 333423, 500 )\n",
        "print( 0.01,333.333, 0.0001)\n",
        "# int\n",
        "# float\n",
        "# 2. Bolain\n",
        "# Ture\n",
        "# False\n",
        "# 3. Order Sequences\n",
        "# String\n",
        "# List\n",
        "# Tuple\n",
        "# Dictionary\n",
        "# 4. Unorder Sequence\n",
        "# Set\n",
        "# 5. NON"
      ],
      "metadata": {
        "colab": {
          "base_uri": "https://localhost:8080/",
          "height": 245
        },
        "id": "EqeEB57tPA-d",
        "outputId": "7e012845-4db1-4748-f288-43ed9ce7f2b4"
      },
      "execution_count": null,
      "outputs": [
        {
          "output_type": "error",
          "ename": "TypeError",
          "evalue": "'str' object is not callable",
          "traceback": [
            "\u001b[0;31m---------------------------------------------------------------------------\u001b[0m",
            "\u001b[0;31mTypeError\u001b[0m                                 Traceback (most recent call last)",
            "\u001b[0;32m<ipython-input-21-179eb83b6162>\u001b[0m in \u001b[0;36m<cell line: 3>\u001b[0;34m()\u001b[0m\n\u001b[1;32m      1\u001b[0m \u001b[0;31m# Data Types\u001b[0m\u001b[0;34m\u001b[0m\u001b[0;34m\u001b[0m\u001b[0m\n\u001b[1;32m      2\u001b[0m \u001b[0;31m# 1. Numeric\u001b[0m\u001b[0;34m\u001b[0m\u001b[0;34m\u001b[0m\u001b[0m\n\u001b[0;32m----> 3\u001b[0;31m \u001b[0mprint\u001b[0m\u001b[0;34m(\u001b[0m \u001b[0;36m1\u001b[0m\u001b[0;34m,\u001b[0m \u001b[0;36m2\u001b[0m\u001b[0;34m,\u001b[0m \u001b[0;36m3\u001b[0m\u001b[0;34m,\u001b[0m \u001b[0;36m333423\u001b[0m\u001b[0;34m,\u001b[0m \u001b[0;36m500\u001b[0m \u001b[0;34m)\u001b[0m\u001b[0;34m\u001b[0m\u001b[0;34m\u001b[0m\u001b[0m\n\u001b[0m\u001b[1;32m      4\u001b[0m \u001b[0mprint\u001b[0m\u001b[0;34m(\u001b[0m \u001b[0;36m0.01\u001b[0m\u001b[0;34m,\u001b[0m\u001b[0;36m333.333\u001b[0m\u001b[0;34m,\u001b[0m \u001b[0;36m0.0001\u001b[0m\u001b[0;34m)\u001b[0m\u001b[0;34m\u001b[0m\u001b[0;34m\u001b[0m\u001b[0m\n\u001b[1;32m      5\u001b[0m \u001b[0;31m# int\u001b[0m\u001b[0;34m\u001b[0m\u001b[0;34m\u001b[0m\u001b[0m\n",
            "\u001b[0;31mTypeError\u001b[0m: 'str' object is not callable"
          ]
        }
      ]
    },
    {
      "cell_type": "markdown",
      "source": [
        "# Python Data types\n"
      ],
      "metadata": {
        "id": "v7VaESWmcx9-"
      }
    },
    {
      "cell_type": "code",
      "source": [
        "print(1+2)\n",
        "print(type(1+2))\n",
        "#print(7/2)\n",
        "#print(type(7/2))\n",
        "#print(\"love coding\")\n",
        "#print(type(\"love coding\"))\n",
        "#print(5>10)\n",
        "#print(type(5>10))\n",
        "#print(4*20)\n",
        "#print(type(4*20))\n",
        "print(10.5//5)\n",
        "print(type(10.5//5))\n",
        "#a=(\"man\", \"wowman\", \"children\")\n",
        "#print(type(a))\n",
        "#b={\"fruits\": \"apple\", \"vegatables\": \"tommato\"}\n",
        "#print(b)\n",
        "#print(type(b))\n",
        "c=[\"chairs\", \"tables\",\"boards\"]\n",
        "print(c)\n",
        "print(type(c))\n",
        "#d=(\"love\" \" \"+\"coding\")\n",
        "print(type(d))\n",
        "#e=[]\n",
        "#print(e)\n",
        "#print(type(e))\n",
        "f=\"\"\n",
        "print(f)\n",
        "print(type(f))\n",
        "g=\" \"\n",
        "print(g)\n",
        "print(type(g))\n",
        "h=(1,3,5,6)\n",
        "print(type(h))\n",
        "print(\"practice makes perfect\")\n",
        "print(type(\"practice make perfect\"))"
      ],
      "metadata": {
        "colab": {
          "base_uri": "https://localhost:8080/",
          "height": 245
        },
        "id": "gAqcyyzIdB-3",
        "outputId": "8d677e77-fc75-4bf4-8d9f-58ecc40924b3"
      },
      "execution_count": null,
      "outputs": [
        {
          "output_type": "error",
          "ename": "TypeError",
          "evalue": "'str' object is not callable",
          "traceback": [
            "\u001b[0;31m---------------------------------------------------------------------------\u001b[0m",
            "\u001b[0;31mTypeError\u001b[0m                                 Traceback (most recent call last)",
            "\u001b[0;32m<ipython-input-31-2f049e5530ac>\u001b[0m in \u001b[0;36m<cell line: 1>\u001b[0;34m()\u001b[0m\n\u001b[0;32m----> 1\u001b[0;31m \u001b[0mprint\u001b[0m\u001b[0;34m(\u001b[0m\u001b[0;36m1\u001b[0m\u001b[0;34m+\u001b[0m\u001b[0;36m2\u001b[0m\u001b[0;34m)\u001b[0m\u001b[0;34m\u001b[0m\u001b[0;34m\u001b[0m\u001b[0m\n\u001b[0m\u001b[1;32m      2\u001b[0m \u001b[0mprint\u001b[0m\u001b[0;34m(\u001b[0m\u001b[0;36m1\u001b[0m\u001b[0;34m+\u001b[0m\u001b[0;36m2\u001b[0m\u001b[0;34m,\u001b[0m \u001b[0mtype\u001b[0m\u001b[0;34m(\u001b[0m\u001b[0;36m1\u001b[0m\u001b[0;34m+\u001b[0m\u001b[0;36m2\u001b[0m\u001b[0;34m)\u001b[0m\u001b[0;34m)\u001b[0m\u001b[0;34m\u001b[0m\u001b[0;34m\u001b[0m\u001b[0m\n\u001b[1;32m      3\u001b[0m \u001b[0;31m#print(7/2)\u001b[0m\u001b[0;34m\u001b[0m\u001b[0;34m\u001b[0m\u001b[0m\n\u001b[1;32m      4\u001b[0m \u001b[0;31m#print(type(7/2))\u001b[0m\u001b[0;34m\u001b[0m\u001b[0;34m\u001b[0m\u001b[0m\n\u001b[1;32m      5\u001b[0m \u001b[0;31m#print(\"love coding\")\u001b[0m\u001b[0;34m\u001b[0m\u001b[0;34m\u001b[0m\u001b[0m\n",
            "\u001b[0;31mTypeError\u001b[0m: 'str' object is not callable"
          ]
        }
      ]
    },
    {
      "cell_type": "markdown",
      "source": [
        "# Practice data types\n",
        "\n",
        "Practice makes perfect"
      ],
      "metadata": {
        "id": "6WgiGdoRfZGR"
      }
    },
    {
      "cell_type": "markdown",
      "source": [
        "# i. Numeric data types\n"
      ],
      "metadata": {
        "id": "VwRVAZUsf08H"
      }
    },
    {
      "cell_type": "code",
      "source": [
        " # Numeric Data Types there are two main types of numeric data which\n",
        " #are going to be practicing as under one by one\n",
        "\n",
        "#INTEGER\n",
        "\n",
        "#print(30 + 7)\n",
        "print(34%4)\n",
        "#print(41*2)\n",
        "#print(2**10)\n",
        "#print(20+13/2*20)\n",
        "\n",
        "#FLOAT\n",
        "\n",
        "#print(20.3)\n",
        "print(4.5**3)\n",
        "#print(28.300+12.321)\n",
        "#print(60.45*4)\n",
        "#print(25.50/5)\n",
        "#print(12.98301520)"
      ],
      "metadata": {
        "id": "RcGLn2fHbHR6",
        "colab": {
          "base_uri": "https://localhost:8080/",
          "height": 245
        },
        "outputId": "f55af115-db29-478c-ca3b-f4d109fc3e8e"
      },
      "execution_count": null,
      "outputs": [
        {
          "output_type": "error",
          "ename": "TypeError",
          "evalue": "'str' object is not callable",
          "traceback": [
            "\u001b[0;31m---------------------------------------------------------------------------\u001b[0m",
            "\u001b[0;31mTypeError\u001b[0m                                 Traceback (most recent call last)",
            "\u001b[0;32m<ipython-input-22-f1d372e6bd45>\u001b[0m in \u001b[0;36m<cell line: 7>\u001b[0;34m()\u001b[0m\n\u001b[1;32m      5\u001b[0m \u001b[0;34m\u001b[0m\u001b[0m\n\u001b[1;32m      6\u001b[0m \u001b[0;31m#print(30 + 7)\u001b[0m\u001b[0;34m\u001b[0m\u001b[0;34m\u001b[0m\u001b[0m\n\u001b[0;32m----> 7\u001b[0;31m \u001b[0mprint\u001b[0m\u001b[0;34m(\u001b[0m\u001b[0;36m34\u001b[0m\u001b[0;34m%\u001b[0m\u001b[0;36m4\u001b[0m\u001b[0;34m)\u001b[0m\u001b[0;34m\u001b[0m\u001b[0;34m\u001b[0m\u001b[0m\n\u001b[0m\u001b[1;32m      8\u001b[0m \u001b[0;31m#print(41*2)\u001b[0m\u001b[0;34m\u001b[0m\u001b[0;34m\u001b[0m\u001b[0m\n\u001b[1;32m      9\u001b[0m \u001b[0;31m#print(2**10)\u001b[0m\u001b[0;34m\u001b[0m\u001b[0;34m\u001b[0m\u001b[0m\n",
            "\u001b[0;31mTypeError\u001b[0m: 'str' object is not callable"
          ]
        }
      ]
    },
    {
      "cell_type": "markdown",
      "source": [
        "# ii. Bolean a logical data type with True, False or 1 / 0\n",
        "like numeric bolean also have two data types True and False"
      ],
      "metadata": {
        "id": "GYwm-qYBgv61"
      }
    },
    {
      "cell_type": "code",
      "source": [
        "# True Vs False ***** try all one by one or just uncomment and see the result yourself\n",
        "#print(True)  # True\n",
        "print(int(True)) # 1\n",
        "#print(int(False)) # 0\n",
        "#print(12==2)  # False\n",
        "#print(1>0)  # True\n",
        "#print(100 < .100)  # True\n",
        "#print([]==[0])   # False\n",
        "#print(2*2 ==4)    # True\n",
        "#print(bool(True)) #True\n",
        "#print(True + True) # 2\n",
        "#print(True + True + True - False) # 3\n",
        "print(True**True - True) # 0\n",
        "#print(True == False) # False\n",
        "#print(True==0) # False\n",
        "#print(bool(True+True)) # True\n",
        "#print(bool(1)) # True\n",
        "#print(bool(0)) # False\n",
        "#print(True**True) # True\n",
        "#print(True/True) # 1.0\n",
        "#print(bool(int(True/True))) # True\n",
        "#print(False + False) # False\n",
        "#print(False==1) # False\n",
        "#print(False > True) #  False\n",
        "\n",
        "#ractice= \"makes a man perfect\"\n",
        "#print(bool(practice))   # True\n",
        "\n",
        "lazy=\"\"\n",
        "print(bool(lazy))  # False\n",
        "\n",
        "#a=\"  \"\n",
        "#print(bool(a)) # True\n",
        "\n",
        "#b=0\n",
        "#print(bool(b)) # False\n",
        "\n",
        "#print(bool([1]))  # True\n",
        "#print(bool(([3]))) # True\n",
        "#print(bool([]))  # False\n",
        "print(bool([0]))  #  True\n",
        "#print(bool(000))  # False\n",
        "#print(bool(0.00001)) # True"
      ],
      "metadata": {
        "colab": {
          "base_uri": "https://localhost:8080/",
          "height": 245
        },
        "id": "JZMNUs4Yu_ja",
        "outputId": "ae908289-5238-429b-90b9-bb82da3335ea"
      },
      "execution_count": null,
      "outputs": [
        {
          "output_type": "error",
          "ename": "TypeError",
          "evalue": "'str' object is not callable",
          "traceback": [
            "\u001b[0;31m---------------------------------------------------------------------------\u001b[0m",
            "\u001b[0;31mTypeError\u001b[0m                                 Traceback (most recent call last)",
            "\u001b[0;32m<ipython-input-9-829bd3ddd258>\u001b[0m in \u001b[0;36m<cell line: 3>\u001b[0;34m()\u001b[0m\n\u001b[1;32m      1\u001b[0m \u001b[0;31m# True Vs False ***** try all one by one or just uncomment and see the result yourself\u001b[0m\u001b[0;34m\u001b[0m\u001b[0;34m\u001b[0m\u001b[0m\n\u001b[1;32m      2\u001b[0m \u001b[0;31m#print(True)  # True\u001b[0m\u001b[0;34m\u001b[0m\u001b[0;34m\u001b[0m\u001b[0m\n\u001b[0;32m----> 3\u001b[0;31m \u001b[0mprint\u001b[0m\u001b[0;34m(\u001b[0m\u001b[0mint\u001b[0m\u001b[0;34m(\u001b[0m\u001b[0;32mTrue\u001b[0m\u001b[0;34m)\u001b[0m\u001b[0;34m)\u001b[0m \u001b[0;31m# 1\u001b[0m\u001b[0;34m\u001b[0m\u001b[0;34m\u001b[0m\u001b[0m\n\u001b[0m\u001b[1;32m      4\u001b[0m \u001b[0;31m#print(int(False)) # 0\u001b[0m\u001b[0;34m\u001b[0m\u001b[0;34m\u001b[0m\u001b[0m\n\u001b[1;32m      5\u001b[0m \u001b[0;31m#print(12==2)  # False\u001b[0m\u001b[0;34m\u001b[0m\u001b[0;34m\u001b[0m\u001b[0m\n",
            "\u001b[0;31mTypeError\u001b[0m: 'str' object is not callable"
          ]
        }
      ]
    },
    {
      "cell_type": "markdown",
      "source": [
        "# iii. Order Sequence Data Types\n",
        "  \n",
        "  String, List, tuple and Dictionary."
      ],
      "metadata": {
        "id": "hENrHG_7wuwe"
      }
    },
    {
      "cell_type": "code",
      "source": [
        "print(string is written order sequence)\n"
      ],
      "metadata": {
        "id": "ULc2Qe0-4mw6"
      },
      "execution_count": null,
      "outputs": []
    },
    {
      "cell_type": "markdown",
      "source": [
        "# iv. Unordered Sequence Data Type\n",
        "\n",
        "  Set"
      ],
      "metadata": {
        "id": "lgwkWjGe1jOF"
      }
    },
    {
      "cell_type": "markdown",
      "source": [
        "# v. None Data Type"
      ],
      "metadata": {
        "id": "tUrG7Uaa2Nxu"
      }
    },
    {
      "cell_type": "markdown",
      "source": [
        "# 06. Rules of Programming\n",
        "\n",
        "In this era of advance technology every things you intend strongly to get is possible. The things you just need to follow is to set your goal, take action with consistency, be hopeful.  In learning any programming language especially Python is on your finger tip If you follow 80/20 rules in your life. By 80/20 rules I mean you should learn ¼ of it by yourself. As there is always 20 of 80 things in our life is always took precedence of the remaining 80 % place in almost each and every aspects of our life and we give name it (20 %) my favorite things. And in the world of programming what are these 20% as under:\n",
        "\n",
        "i.\tAlways try your best to learn the basic of the programming you are going\n",
        "    to learn.\n",
        "ii.\tLearn how to get help from online source especially from goggle\n",
        "    documentation\n",
        "iii.You don’t need to learn everything about anything\n",
        "iv.\tNever go set to memorize all anything instead practice can give better\n",
        "    result.\n"
      ],
      "metadata": {
        "id": "IZbOUYuT2jr0"
      }
    },
    {
      "cell_type": "markdown",
      "source": [
        "# 07. Mathematical operators and Order of precedence\n",
        "\n",
        "# PEMDAS\n",
        "Like mathematics Python also follow rules to solve any mathematical operation. If we have  addition, subtraction,  division,  exponents , multiplication and parentheses. Python will solve it according to PEMDAS(Please Excuse My Dear Aunt Sara)\n",
        "print(3*2) * 3**3+ 10/2 - 3)  \n",
        "           164.0\n",
        "Anyway you can also solve the expression that you want to solve in the complex equation like as this one:    \n",
        "Print((10+12) * (3  + 2**6- 10/4+12))\n",
        "        1683.0\n",
        "\n"
      ],
      "metadata": {
        "id": "cV_gXwqH29-2"
      }
    },
    {
      "cell_type": "code",
      "source": [
        "print(10+2)"
      ],
      "metadata": {
        "colab": {
          "base_uri": "https://localhost:8080/",
          "height": 175
        },
        "id": "81nU4o3y8mWK",
        "outputId": "b418226f-f5e7-4bfb-b3e4-a64384b3ce32"
      },
      "execution_count": null,
      "outputs": [
        {
          "output_type": "error",
          "ename": "TypeError",
          "evalue": "'str' object is not callable",
          "traceback": [
            "\u001b[0;31m---------------------------------------------------------------------------\u001b[0m",
            "\u001b[0;31mTypeError\u001b[0m                                 Traceback (most recent call last)",
            "\u001b[0;32m<ipython-input-20-0148b3fdeb42>\u001b[0m in \u001b[0;36m<cell line: 1>\u001b[0;34m()\u001b[0m\n\u001b[0;32m----> 1\u001b[0;31m \u001b[0mprint\u001b[0m\u001b[0;34m(\u001b[0m\u001b[0;36m10\u001b[0m\u001b[0;34m+\u001b[0m\u001b[0;36m2\u001b[0m\u001b[0;34m)\u001b[0m\u001b[0;34m\u001b[0m\u001b[0;34m\u001b[0m\u001b[0m\n\u001b[0m",
            "\u001b[0;31mTypeError\u001b[0m: 'str' object is not callable"
          ]
        }
      ]
    },
    {
      "cell_type": "markdown",
      "source": [
        "# 08. Variable and there big 4 No No\n",
        "\n",
        "A Variable is a name of memory which works as store in programming.  They store data inside and can provide the store data  when need to use it. There are 4 restrictions keeping a variable name. They are as following:\n",
        "i.\tA variable can’t be start with a number (3dogs) at the beginning but can stand any other place (dogs4) in a variable.\n",
        "ii.\tWe can’t use special character (#, %, @, !) in a variable name except underscore (_).\n",
        "iii.\tA reserve word (let, for, print) can’t be kept as a variable name.\n",
        "iv.\tA variable can’t be right with space( old  house)\n",
        "\n",
        "Variable >name= data> “Ali”\n",
        "print (name)\n",
        "       Ali\n"
      ],
      "metadata": {
        "id": "bUZN4iVV3cgj"
      }
    },
    {
      "cell_type": "markdown",
      "source": [
        "# 09. Statement and expressions\n",
        "\n",
        "Any syntax with equal sign is considered statement in Python, every  statement can hold an expression but every expression can’t be considered as a statement\n",
        "       a,b,c=10, 20,300  is a statement\n",
        "       print(a,b,c)\n",
        "        10   20   300\n",
        " A, b, c= 10, 20, 300/100            \n",
        "300/100 in this statement is expression\n",
        "   10 20  3.0\n",
        "Counting or reading preference will start from write to left.\n"
      ],
      "metadata": {
        "id": "fjTiVnIA4DDf"
      }
    }
  ]
}