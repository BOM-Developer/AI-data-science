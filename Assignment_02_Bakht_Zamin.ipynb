{
  "nbformat": 4,
  "nbformat_minor": 0,
  "metadata": {
    "colab": {
      "provenance": [],
      "toc_visible": true,
      "authorship_tag": "ABX9TyM752MANTYl/BwXcphttBlu",
      "include_colab_link": true
    },
    "kernelspec": {
      "name": "python3",
      "display_name": "Python 3"
    },
    "language_info": {
      "name": "python"
    }
  },
  "cells": [
    {
      "cell_type": "markdown",
      "metadata": {
        "id": "view-in-github",
        "colab_type": "text"
      },
      "source": [
        "<a href=\"https://colab.research.google.com/github/BOM-Developer/AI-data-science/blob/main/Assignment_02_Bakht_Zamin.ipynb\" target=\"_parent\"><img src=\"https://colab.research.google.com/assets/colab-badge.svg\" alt=\"Open In Colab\"/></a>"
      ]
    },
    {
      "cell_type": "markdown",
      "source": [
        "#                    Assignment_02\n",
        "#                   Hope to Skills\n",
        "#             Free Artificial Intelligence Advance Course\n",
        "\n",
        "\n",
        "\n",
        "\n",
        "\n",
        "\n",
        "\n",
        "\n"
      ],
      "metadata": {
        "id": "IA9LFbKvhLDs"
      }
    },
    {
      "cell_type": "markdown",
      "source": [
        "# Question_1\n",
        "* 1. Write a program that takes a string as input and counts the number of vowels and\n",
        "consonants in the string.  \n",
        "Input: Hello, World!\n",
        "Output:\n",
        "Number of vowels: 3\n",
        "Number of consonants: 7"
      ],
      "metadata": {
        "id": "o1hu3I56N7hd"
      }
    },
    {
      "cell_type": "code",
      "source": [
        "def count_vowels_and_consonants(TEXT):\n",
        "  \"\"\"Counts the number of vowels and consonants in a string.\n",
        "\n",
        "  Args:\n",
        "    text: The string to count vowels and consonants in.\n",
        "\n",
        "  Returns:\n",
        "    A dictionary with two keys: 'vowels' and 'consonants', and the corresponding counts.\n",
        "  \"\"\"\n",
        "\n",
        "  vowels = \"aeiou\"\n",
        "  consonants = \"bcdfghjklmnpqrstvwxyz\"\n",
        "  vowel_count = 0\n",
        "  consonant_count = 0\n",
        "\n",
        "  for char in TEXT.lower():\n",
        "    if char in vowels:\n",
        "      vowel_count += 1\n",
        "    elif char in consonants:\n",
        "      consonant_count += 1\n",
        "\n",
        "  return {\"vowels\": vowel_count, \"consonants\": consonant_count}\n",
        "\n",
        "TEXT = \"Hello world!\"\n",
        "result = count_vowels_and_consonants(TEXT)\n",
        "print(f\"Vowels: {result['vowels']}\")\n",
        "print(f\"Consonants: {result['consonants']}\")"
      ],
      "metadata": {
        "colab": {
          "base_uri": "https://localhost:8080/"
        },
        "id": "9HO7GVXyJDxL",
        "outputId": "0734aca0-d2d9-402a-cf02-f37d52865ad7"
      },
      "execution_count": null,
      "outputs": [
        {
          "output_type": "stream",
          "name": "stdout",
          "text": [
            "Vowels: 3\n",
            "Consonants: 7\n"
          ]
        }
      ]
    },
    {
      "cell_type": "markdown",
      "source": [
        "# Question _2\n",
        "* Write a Python program that accepts a filename from the user and prints the extension\n",
        "of the file.\n",
        "Sample filename: document.docx\n",
        "Output: docx"
      ],
      "metadata": {
        "id": "qyLXPR5JauBe"
      }
    },
    {
      "cell_type": "code",
      "source": [
        "def get_file_extension(filename):\n",
        "  \"\"\"Gets the extension of a file.\n",
        "\n",
        "  Args:\n",
        "    filename: The name of the file.\n",
        "\n",
        "  Returns:\n",
        "    The extension of the file, or an empty string if there is no extension.\n",
        "  \"\"\"\n",
        "  dot_index = filename.rfind(\".\")\n",
        "  if dot_index >= 0:\n",
        "    return filename[dot_index + 1:].lower()  # Convert to lowercase\n",
        "  else:\n",
        "    return \"\"\n",
        "\n",
        "filename = input(\"Enter the filename: \")\n",
        "extension = get_file_extension(filename)\n",
        "\n",
        "if extension:\n",
        "  print(f\"Extension: {extension}\")\n",
        "else:\n",
        "  print(\"The file does not have an extension.\")"
      ],
      "metadata": {
        "colab": {
          "base_uri": "https://localhost:8080/"
        },
        "id": "e_8E7PbWZ7Vx",
        "outputId": "9fcfb396-6eb7-465a-a750-0f964f10dcfe"
      },
      "execution_count": null,
      "outputs": [
        {
          "output_type": "stream",
          "name": "stdout",
          "text": [
            "Enter the filename: python.py\n",
            "Extension: py\n"
          ]
        }
      ]
    },
    {
      "cell_type": "markdown",
      "source": [
        "# Question 3.\n",
        "* Write a Python program to check if value 200 exists in the following dictionary.\n",
        "Sample_dict = {'a': 100, 'b': 200, 'c': 300}"
      ],
      "metadata": {
        "id": "WmV2s-yON6Ky"
      }
    },
    {
      "cell_type": "code",
      "source": [
        "sample_dict = {\n",
        "               \"a\": 100,\n",
        "               \"b\": 200,\n",
        "               \"c\": 300\n",
        "               }\n",
        "\n",
        "value_to_check = 200\n",
        "\n",
        "if value_to_check in sample_dict.values():\n",
        " print(\"Yes, the value exists in the dictionary.\")\n",
        "else:\n",
        " print(\"No, the value does not exist in the dictionary.\")"
      ],
      "metadata": {
        "colab": {
          "base_uri": "https://localhost:8080/"
        },
        "id": "DHKDj5I5N_w1",
        "outputId": "bacda36d-6278-4e77-afcc-ee815078f826"
      },
      "execution_count": null,
      "outputs": [
        {
          "output_type": "stream",
          "name": "stdout",
          "text": [
            "Yes, the value exists in the dictionary.\n"
          ]
        }
      ]
    },
    {
      "cell_type": "markdown",
      "source": [
        "# Question 4.\n",
        "* The given tuple is a nested tuple. Write a Python program to print the value 20.\n",
        "tuple1 = (\"Orange\", [10, 20, 30], (5, 15, 25))\n"
      ],
      "metadata": {
        "id": "QKn9Wvf7Mydx"
      }
    },
    {
      "cell_type": "code",
      "source": [
        " tuple1 = (\"Orange\", [10, 20, 30], (5, 15, 25))\n",
        "\n",
        "# Access the nested list at index 1 and then access the element at index 1\n",
        "value = tuple1[1][1]\n",
        "\n",
        "print(value)  # Output: 20"
      ],
      "metadata": {
        "colab": {
          "base_uri": "https://localhost:8080/"
        },
        "id": "34hpJ442M78u",
        "outputId": "16567b9b-3ecb-4147-f9ce-4e84eb5e7964"
      },
      "execution_count": null,
      "outputs": [
        {
          "output_type": "stream",
          "name": "stdout",
          "text": [
            "20\n"
          ]
        }
      ]
    },
    {
      "cell_type": "markdown",
      "source": [
        "# Question 5.\n",
        "* Write a Python program that calculates the Body Mass Index (BMI) for a person\n",
        "based on their weight (in kilograms) and height (in meters). The BMI is calculated\n",
        "using the following formula:\n",
        "BMI = (weight) / (height^2)\n",
        "Instructions:\n",
        "● Prompt the user to enter their weight in kilograms.\n",
        "● Prompt the user to enter their height in meters.\n",
        "● Calculate the BMI using the provided formula.\n",
        "● Display the calculated BMI to the user.\n",
        "Additionally, provide an interpretation of the BMI according to the\n",
        "following categories:\n",
        "● BMI < 18.5: Underweight\n",
        "● 18.5 <= BMI < 25: Normal weight\n",
        "● 25 <= BMI < 30: Overweight\n",
        "● BMI >= 30: Obese\n"
      ],
      "metadata": {
        "id": "84WPER0-UfKr"
      }
    },
    {
      "cell_type": "code",
      "source": [
        "def calculate_bmi(weight, height):\n",
        "  \"\"\"Calculates the BMI and returns it along with an interpretation.\n",
        "\n",
        "  Args:\n",
        "    weight: Weight in kilograms.\n",
        "    height: Height in meters.\n",
        "\n",
        "  Returns:\n",
        "    A tuple containing the BMI and its interpretation.\n",
        "  \"\"\"\n",
        "\n",
        "  # Calculate BMI\n",
        "  bmi = weight / (height * height)\n",
        "  # Define interpretation based on BMI range\n",
        "  interpretation = \"\"\n",
        "  if bmi < 18.5:\n",
        "    interpretation = \"Underweight\"\n",
        "  elif bmi < 25:\n",
        "    interpretation = \"Normal weight\"\n",
        "  elif bmi < 30:\n",
        "    interpretation = \"Overweight\"\n",
        "  else:\n",
        "    interpretation = \"Obese\"\n",
        "\n",
        "  return bmi, interpretation\n",
        "\n",
        " # Get user input\n",
        "weight = float(input(\"Enter your weight in kilograms: \"))\n",
        "height = float(input(\"Enter your height in meters: \"))\n",
        "  # Calculate BMI\n",
        "bmi = weight / (height * height)\n",
        "\n",
        "   # Calculate and display BMI with interpretation\n",
        "bmi, interpretation = calculate_bmi(weight, height)\n",
        "print(f\"Your BMI is: {bmi:.2f}\")\n",
        "print(f\"Interpretation: {interpretation}\")\n"
      ],
      "metadata": {
        "colab": {
          "base_uri": "https://localhost:8080/"
        },
        "id": "bpWwLiwSUmjm",
        "outputId": "bf2c8a4b-4b86-4c2a-9e5c-963d2e054376"
      },
      "execution_count": null,
      "outputs": [
        {
          "output_type": "stream",
          "name": "stdout",
          "text": [
            "Enter your weight in kilograms: 60\n",
            "Enter your height in meters: 40\n",
            "Your BMI is: 0.04\n",
            "Interpretation: Underweight\n"
          ]
        }
      ]
    },
    {
      "cell_type": "markdown",
      "source": [
        "# Question 6.\n",
        "*  Write a Python program that prompts the user to input a string. The program\n",
        "should count the frequency of each character in the string and then print the result\n",
        "as a dictionary.\n",
        "EXAMPLE: If the user enters \"hello\" , the program should output {'h': 1, 'e': 1, 'l': 2, 'o': 1}\n",
        "indicating that 'h' appears once, 'e' appears once, 'l' appears twice, and 'o' appears\n",
        "once in the input string."
      ],
      "metadata": {
        "id": "i11ckoywYcnX"
      }
    },
    {
      "cell_type": "code",
      "source": [
        "def count_char_frequency(text):\n",
        "  \"\"\"Counts the frequency of each character in a string.\n",
        "\n",
        "  Args:\n",
        "    text: The string to count character frequencies in.\n",
        "\n",
        "  Returns:\n",
        "    A dictionary with characters as keys and their frequencies as values.\n",
        "  \"\"\"\n",
        "  char_counts = {\n",
        "  }\n",
        "  for char in text:\n",
        "    if char in char_counts:\n",
        "      char_counts[char] += 1\n",
        "    else:\n",
        "      char_counts[char] = 1\n",
        "  return char_counts\n",
        "\n",
        "text = input(\"Enter a string: \")\n",
        "char_counts = count_char_frequency(text)\n",
        "\n",
        "print(\"Character frequency:\")\n",
        "for char, count in char_counts.items():\n",
        "  print(f\"{char}: {count}\")"
      ],
      "metadata": {
        "colab": {
          "base_uri": "https://localhost:8080/"
        },
        "id": "MjAMlx0eYiGn",
        "outputId": "7cb5b057-ea00-4759-983c-c87630e4f657"
      },
      "execution_count": null,
      "outputs": [
        {
          "output_type": "stream",
          "name": "stdout",
          "text": [
            "Enter a string: a\n",
            "Character frequency:\n",
            "a: 1\n"
          ]
        }
      ]
    },
    {
      "cell_type": "markdown",
      "source": [
        "# Question 7.\n",
        "* Write a Python program that takes a string input from the user and checks if it is a valid\n",
        "email address. If it is valid, print \"Valid email address\", otherwise print \"Invalid email\n",
        "address\".\n",
        "Hint: Check if the string contains “@” and ends with “.net”, or “.com” to check\n",
        "validity. Example: If the email is “abc@example.com”, then it is a valid email,\n",
        "otherwise an Invalid email."
      ],
      "metadata": {
        "id": "Im8s5Ed2a3E7"
      }
    },
    {
      "cell_type": "code",
      "source": [
        "import re\n",
        "\n",
        "def is_valid_email(email):\n",
        "  \"\"\"Checks if a string is a valid email address.\n",
        "\n",
        "  Args:\n",
        "    email: The email address to check.\n",
        "\n",
        "  Returns:\n",
        "    True if the email is valid, False otherwise.\n",
        "  \"\"\"\n",
        "\n",
        "  # Regular expression pattern for a valid email address\n",
        "  pattern = r\"^[a-zA-Z0-9.!#$%&'*+/=?^_`{|}~-]+@[a-zA-Z0-9-]+\\.[a-zA-Z0-9-]{2,4}$\"\n",
        "\n",
        "  return re.match(pattern, email) is not None\n",
        "\n",
        "# Test cases\n",
        "emails = [\"abc@example.com\", \"abc #.com\"]\n",
        "\n",
        "for email in emails:\n",
        "  if is_valid_email(email):\n",
        "    print(f\"{email}: Valid email address\")\n",
        "  else:\n",
        "    print(f\"{email}: Invalid email address\")"
      ],
      "metadata": {
        "colab": {
          "base_uri": "https://localhost:8080/"
        },
        "id": "A-tQI4Kfbzi0",
        "outputId": "f57fbf7b-f00f-4e66-c791-6290e768d0c9"
      },
      "execution_count": null,
      "outputs": [
        {
          "output_type": "stream",
          "name": "stdout",
          "text": [
            "abc@example.com: Valid email address\n",
            "abc #.com: Invalid email address\n"
          ]
        }
      ]
    },
    {
      "cell_type": "markdown",
      "source": [
        "# Question 8.\n",
        "* Given a tuple of tuples, write a Python program to print the sum of the elements\n",
        "in each inner tuple.\n",
        "Input: ((1, 2, 3), (4, 5, 6), (7, 8, 9))\n",
        "Output: 6, 15, 24"
      ],
      "metadata": {
        "id": "qvDraorVdUgs"
      }
    },
    {
      "cell_type": "code",
      "source": [
        "tup = ((1, 2, 3), (4, 5, 6), (7, 8, 9))\n",
        "\n",
        "# Iterate over the outer tuple\n",
        "for inner_tuple in tup:\n",
        "  # Calculate the sum of elements in the inner tuple\n",
        "  sum_of_elements = sum(inner_tuple)\n",
        "\n",
        "  # Print the sum\n",
        "  print(sum_of_elements)"
      ],
      "metadata": {
        "colab": {
          "base_uri": "https://localhost:8080/"
        },
        "id": "KsW3SEuld68Y",
        "outputId": "7dcd945d-f2e3-4d40-80a2-30d8835b018b"
      },
      "execution_count": null,
      "outputs": [
        {
          "output_type": "stream",
          "name": "stdout",
          "text": [
            "6\n",
            "15\n",
            "24\n"
          ]
        }
      ]
    },
    {
      "cell_type": "markdown",
      "source": [
        "# Question 9.\n",
        "*  Create a list containing the 10 numbers . Print the first Three prime numbers from\n",
        "the list.\n",
        "Expected Output: List of the first three prime numbers: [2, 3, 5]\n"
      ],
      "metadata": {
        "id": "a9d-0JIMeVha"
      }
    },
    {
      "cell_type": "code",
      "source": [
        "def prime_num(n):\n",
        "  \"\"\"Checks if a number is prime_num.\n",
        "\n",
        "  Args:\n",
        "    n: The number to check.\n",
        "\n",
        "  Returns:\n",
        "    True if the number is prime, False otherwise.\n",
        "  \"\"\"\n",
        "\n",
        "  if n <= 1:\n",
        "    return False\n",
        "  elif n <= 3:\n",
        "    return True\n",
        "  elif n % 2 == 0 or n % 3 == 0:\n",
        "    return False\n",
        "\n",
        "  i = 5\n",
        "  while i * i <= n:\n",
        "    if n % i == 0 or n % (i + 2) == 0:\n",
        "      return False\n",
        "    i += 6\n",
        "\n",
        "  return True\n",
        "\n",
        "# Create a list of numbers from 1 to 10\n",
        "numbers = [i for i in range(1, 11)]\n",
        "\n",
        "# Find the first three prime numbers\n",
        "prime_numbers = []\n",
        "for num in numbers:\n",
        "  if prime_num(num):\n",
        "    prime_numbers.append(num)\n",
        "    if len(prime_numbers) == 3:\n",
        "      break\n",
        "\n",
        "print(\"List of the first three prime numbers:\", prime_numbers)"
      ],
      "metadata": {
        "colab": {
          "base_uri": "https://localhost:8080/"
        },
        "id": "214rS3FRfH1g",
        "outputId": "c98ea746-acf1-4484-b61d-951cb4e36a89"
      },
      "execution_count": null,
      "outputs": [
        {
          "output_type": "stream",
          "name": "stdout",
          "text": [
            "List of the first three prime numbers: [2, 3, 5]\n"
          ]
        }
      ]
    },
    {
      "cell_type": "markdown",
      "source": [
        "# Question 10.\n",
        "* Given a list of dictionaries representing students' information (name, age, grade),\n",
        "Write a Python program to sort the students based on their grades in descending\n",
        "order and print the sorted list.\n",
        "Dictionary: [\n",
        "{\"name\": \"John\", \"age\": 20, \"grade\": 85},\n",
        "{\"name\": \"Alice\", \"age\": 22, \"grade\": 90},\n",
        "{\"name\": \"Bob\", \"age\": 21, \"grade\": 80}\n",
        "]"
      ],
      "metadata": {
        "id": "648CZH5cf529"
      }
    },
    {
      "cell_type": "code",
      "source": [
        "students = [\n",
        "    {\"name\": \"John\", \"age\": 20, \"grade\": 85},\n",
        "    {\"name\": \"Alice\", \"age\": 22, \"grade\": 90},\n",
        "    {\"name\": \"Bob\", \"age\": 21, \"grade\": 80},\n",
        "]\n",
        "\n",
        "# Sort the students by their grades in descending order using the `key` argument\n",
        "sorted_students = sorted(students, key=lambda student: student[\"grade\"], reverse=True)\n",
        "\n",
        "# Print the sorted list\n",
        "print(\"Students sorted by grade (descending):\")\n",
        "for student in sorted_students:\n",
        "    print(f\"- {student['name']}: {student['grade']}\")"
      ],
      "metadata": {
        "colab": {
          "base_uri": "https://localhost:8080/"
        },
        "id": "6ADUO8i_gzOG",
        "outputId": "749dcad6-a6dc-40e2-81a1-7eedd072e1a5"
      },
      "execution_count": null,
      "outputs": [
        {
          "output_type": "stream",
          "name": "stdout",
          "text": [
            "Students sorted by grade (descending):\n",
            "- Alice: 90\n",
            "- John: 85\n",
            "- Bob: 80\n"
          ]
        }
      ]
    }
  ]
}