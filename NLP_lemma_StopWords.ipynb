{
  "cells": [
    {
      "cell_type": "markdown",
      "metadata": {
        "id": "view-in-github",
        "colab_type": "text"
      },
      "source": [
        "<a href=\"https://colab.research.google.com/github/BOM-Developer/AI-data-science/blob/main/NLP_lemma_StopWords.ipynb\" target=\"_parent\"><img src=\"https://colab.research.google.com/assets/colab-badge.svg\" alt=\"Open In Colab\"/></a>"
      ]
    },
    {
      "cell_type": "markdown",
      "metadata": {
        "id": "TUD0ujxD54tl"
      },
      "source": [
        "## **Lemmatization and StopWords Basic Conceptual Notebook:**\n",
        "This simple and short notebook is all about the basic concept of lEMMATIZATION in NLP."
      ]
    },
    {
      "cell_type": "markdown",
      "metadata": {
        "id": "W5dMaV-WG4E2"
      },
      "source": [
        "## **Lemmatization**"
      ]
    },
    {
      "cell_type": "code",
      "execution_count": null,
      "metadata": {
        "id": "vTBW_jBH57wj"
      },
      "outputs": [],
      "source": [
        "# Perform standard imports:\n",
        "import spacy\n",
        "nlp = spacy.load('en_core_web_sm')"
      ]
    },
    {
      "cell_type": "code",
      "execution_count": null,
      "metadata": {
        "colab": {
          "base_uri": "https://localhost:8080/"
        },
        "id": "WX1jPEdQ7MKg",
        "outputId": "3218be88-c9dc-453a-d491-dec7b188c685"
      },
      "outputs": [
        {
          "name": "stdout",
          "output_type": "stream",
          "text": [
            "Colombus \t PROPN \t 10569790587237986044 \t Colombus\n",
            "was \t AUX \t 10382539506755952630 \t be\n",
            "one \t NUM \t 17454115351911680600 \t one\n",
            "of \t ADP \t 886050111519832510 \t of\n",
            "the \t DET \t 7425985699627899538 \t the\n",
            "first \t ADJ \t 11860158879560853892 \t first\n",
            "explorer \t NOUN \t 228061367770565970 \t explorer\n",
            "who \t PRON \t 3876862883474502309 \t who\n",
            "discovered \t VERB \t 1997522836329342007 \t discover\n",
            "Amiraca \t PROPN \t 4491731598223753204 \t Amiraca\n",
            "for \t ADP \t 16037325823156266367 \t for\n",
            "the \t DET \t 7425985699627899538 \t the\n",
            "first \t ADJ \t 11860158879560853892 \t first\n",
            "time \t NOUN \t 8885804376230376864 \t time\n"
          ]
        }
      ],
      "source": [
        "var1 = nlp(u\"Colombus was one of the first explorer who discovered Amiraca for the first time\")\n",
        "for token in var1:\n",
        "  print(token.text, '\\t', token.pos_,'\\t', token.lemma, '\\t', token.lemma_)"
      ]
    },
    {
      "cell_type": "code",
      "execution_count": null,
      "metadata": {
        "id": "WcuyYNkA9CRk"
      },
      "outputs": [],
      "source": [
        "def show_lemmas(text):\n",
        "  for token in text:\n",
        "    print (f'{token.text:{12}} {token.pos_:{6}} {token.lemma:<{22}} {token.lemma_}')\n"
      ]
    },
    {
      "cell_type": "code",
      "execution_count": null,
      "metadata": {
        "colab": {
          "base_uri": "https://localhost:8080/"
        },
        "id": "pVueiURF-cyK",
        "outputId": "6fd6b847-86ee-4980-e39e-39dd4e6f13d0"
      },
      "outputs": [
        {
          "name": "stdout",
          "output_type": "stream",
          "text": [
            "Colombuss    PROPN  7212825850652985350    Colombuss\n",
            "was          AUX    10382539506755952630   be\n",
            "one          NUM    17454115351911680600   one\n",
            "of           ADP    886050111519832510     of\n",
            "the          DET    7425985699627899538    the\n",
            "first        ADJ    11860158879560853892   first\n",
            "explorer     NOUN   228061367770565970     explorer\n",
            "who          PRON   3876862883474502309    who\n",
            "discovered   VERB   1997522836329342007    discover\n",
            "Amiraca      PROPN  4491731598223753204    Amiraca\n",
            "for          ADP    16037325823156266367   for\n",
            "the          DET    7425985699627899538    the\n",
            "first        ADJ    11860158879560853892   first\n",
            "time         NOUN   8885804376230376864    time\n"
          ]
        }
      ],
      "source": [
        "var2 = nlp(u\"Colombuss was one of the first explorer who discovered Amiraca for the first time\")\n",
        "show_lemmas(var2)"
      ]
    },
    {
      "cell_type": "code",
      "execution_count": null,
      "metadata": {
        "colab": {
          "base_uri": "https://localhost:8080/"
        },
        "id": "QwBrqDKS_-hs",
        "outputId": "ef374142-d851-4c73-83a4-317b4c14a576"
      },
      "outputs": [
        {
          "name": "stdout",
          "output_type": "stream",
          "text": [
            "He           PRON   1655312771067108281    he\n",
            "was          AUX    10382539506755952630   be\n",
            "the          DET    7425985699627899538    the\n",
            "greatest     ADJ    8881679497796027013    great\n",
            "explorer     NOUN   228061367770565970     explorer\n",
            "in           ADP    3002984154512732771    in\n",
            "his          PRON   2661093235354845946    his\n",
            "time         NOUN   8885804376230376864    time\n"
          ]
        }
      ],
      "source": [
        "var4 = nlp(u\"He was the greatest explorer in his time\")\n",
        "show_lemmas(var4)"
      ]
    },
    {
      "cell_type": "code",
      "execution_count": null,
      "metadata": {
        "colab": {
          "base_uri": "https://localhost:8080/"
        },
        "id": "Qqf-RT1fAiPb",
        "outputId": "2521d3b9-229c-439d-de0b-bc7043d18f58"
      },
      "outputs": [
        {
          "name": "stdout",
          "output_type": "stream",
          "text": [
            "I            PRON   4690420944186131903    I\n",
            "like         VERB   18194338103975822726   like\n",
            "playing      VERB   8228585124152053988    play\n",
            "basketball   NOUN   7882167429608139231    basketball\n"
          ]
        }
      ],
      "source": [
        "var5 = nlp(u\"I like playing basketball\")\n",
        "show_lemmas(var5)"
      ]
    },
    {
      "cell_type": "markdown",
      "metadata": {
        "id": "5YVFHVw5HCFL"
      },
      "source": [
        "## **StopWords**\n",
        "A word that doesn't contribute an any deeper meaning in a clause or phrase is called stopword in NLP. They are words like: the, a and is etc. As for some applications like documentation classification, it may make sense to remove stop words. Library like Natural language Tool Kit(NLTK)provides a list of commonly agreed upon stop words for a variety of languages."
      ]
    },
    {
      "cell_type": "code",
      "execution_count": null,
      "metadata": {
        "id": "SPoH4lJrHLcq"
      },
      "outputs": [],
      "source": [
        "import spacy\n",
        "nlp = spacy.load('en_core_web_sm')\n"
      ]
    },
    {
      "cell_type": "code",
      "execution_count": null,
      "metadata": {
        "colab": {
          "base_uri": "https://localhost:8080/"
        },
        "id": "8c1nu0_qKF2d",
        "outputId": "4ae7a817-45a2-448f-f175-0dbcbc20a3d7"
      },
      "outputs": [
        {
          "name": "stderr",
          "output_type": "stream",
          "text": [
            "[nltk_data] Downloading package stopwords to /root/nltk_data...\n",
            "[nltk_data]   Unzipping corpora/stopwords.zip.\n"
          ]
        },
        {
          "data": {
            "text/plain": [
              "True"
            ]
          },
          "execution_count": 20,
          "metadata": {},
          "output_type": "execute_result"
        }
      ],
      "source": [
        "import nltk\n",
        "nltk.download('stopwords')"
      ]
    },
    {
      "cell_type": "code",
      "execution_count": null,
      "metadata": {
        "colab": {
          "base_uri": "https://localhost:8080/"
        },
        "id": "KULbycLhKRLB",
        "outputId": "a29c42d1-0ab1-48ac-ef56-3aee47dea8ae"
      },
      "outputs": [
        {
          "name": "stdout",
          "output_type": "stream",
          "text": [
            "{'here', 'them', 'whatever', 'amongst', 'hers', 'few', 'everyone', 'has', 'still', 'are', 'fifteen', 'moreover', 'at', 'towards', 'itself', 'thereby', 'an', 'part', 'so', 'nor', 'a', 'would', 'eleven', 'may', \"'re\", 'over', 'our', 'whence', 'something', 'even', 'in', '‘s', 'empty', 'yourself', 'him', 'per', 'becomes', 'show', 'mostly', \"'d\", 'keep', 'under', 'further', 'same', \"n't\", 'yourselves', 'became', 'but', 'go', 'sometime', 'get', 'seem', 'thereupon', \"'ve\", 'do', 'make', 'whoever', 'just', 'whom', 'well', 'formerly', 'around', 'too', 'often', 'one', 'somehow', 'such', 'put', 'ca', 'anything', 'serious', 'will', '’s', 'former', 'after', 'yet', 'beforehand', 'via', 'two', 'above', 'they', 'really', 'some', 'of', 'her', 'against', 'due', 'seems', 'forty', 'nine', 'where', 'full', 'there', 'used', 'front', 'what', 'ourselves', 'can', 'give', 'three', 'unless', 'then', 'it', 'this', 'yours', 'twenty', 'regarding', 'either', 'the', 'these', 'from', 'almost', 'back', 'each', 'seeming', 'thence', 'eight', 'herself', \"'m\", 'by', 'using', 'therein', 'herein', 'my', 'behind', 'throughout', 'and', 'see', 'very', 'except', 'quite', 'cannot', 'myself', 'thus', 'toward', 'whereupon', '‘ve', 'other', 'now', 'please', 'hence', 'did', 'wherever', 'between', 'none', 'as', 'elsewhere', 'i', 'your', 'during', '’m', 'nobody', 'also', 'he', 'his', 'no', 'among', 'top', 'whenever', 'latterly', 'noone', 'whereas', 'below', 'since', 'twelve', 'although', 'without', 'third', 'than', 'thru', 'last', 'before', 'several', 'was', 'beyond', 'everything', 'to', 'bottom', 'besides', 'that', 'be', 'more', 'less', '’ll', 'someone', 'for', 'why', 'own', 'been', 'together', 'along', 'latter', 'into', 'rather', '‘re', 'onto', 'through', 'wherein', 'mine', 'first', 'down', 'beside', 'anywhere', 'nothing', 'hereupon', 'all', 'anyhow', 'might', 'or', 'everywhere', '’d', 'out', 'not', '‘m', 'sometimes', 'which', 'take', 'therefore', 'alone', 'whereby', 'does', '‘d', '’re', 'neither', 'himself', 'n‘t', 'should', 'only', 'am', 'perhaps', 're', 'about', 'ever', 'had', 'she', 'though', 'amount', 'least', 'whereafter', 'were', 'again', 'name', 'most', 'much', 'others', 'upon', 'afterwards', \"'ll\", 'fifty', 'else', 'anyone', 'both', 'next', 'sixty', 'being', 'n’t', 'somewhere', 'every', 'whole', 'however', '’ve', 'we', 'whose', 'already', 'hundred', 'you', 'seemed', 'various', 'four', 'with', 'namely', 'becoming', '‘ll', 'another', 'is', 'me', 'many', 'across', 'enough', 'thereafter', 'done', 'move', 'say', 'whether', 'call', 'their', 'those', 'when', 'become', 'five', 'never', 'anyway', 'who', 'otherwise', 'because', 'while', 'indeed', 'meanwhile', 'once', 'within', 'whither', 'off', 'could', 'its', 'nevertheless', 'until', 'nowhere', 'doing', 'ten', 'hereby', 'hereafter', 'how', 'any', 'side', \"'s\", 'on', 'have', 'if', 'ours', 'must', 'up', 'themselves', 'always', 'us', 'made', 'six'}\n"
          ]
        }
      ],
      "source": [
        "# printing the set of spacy's default stopwords\n",
        "print(nlp.Defaults.stop_words)"
      ]
    },
    {
      "cell_type": "code",
      "execution_count": null,
      "metadata": {
        "colab": {
          "base_uri": "https://localhost:8080/"
        },
        "id": "37mSoJngLS5M",
        "outputId": "258c9552-3884-43a2-e714-8fbeec1bebd6"
      },
      "outputs": [
        {
          "data": {
            "text/plain": [
              "326"
            ]
          },
          "execution_count": 22,
          "metadata": {},
          "output_type": "execute_result"
        }
      ],
      "source": [
        "len(nlp.Defaults.stop_words)"
      ]
    },
    {
      "cell_type": "code",
      "execution_count": null,
      "metadata": {
        "colab": {
          "base_uri": "https://localhost:8080/"
        },
        "id": "3XWEa99DMP2l",
        "outputId": "60db8ebe-b172-4cb1-eaad-8d89274f9d06"
      },
      "outputs": [
        {
          "data": {
            "text/plain": [
              "True"
            ]
          },
          "execution_count": 23,
          "metadata": {},
          "output_type": "execute_result"
        }
      ],
      "source": [
        "nlp.vocab['myself'].is_stop"
      ]
    },
    {
      "cell_type": "code",
      "execution_count": null,
      "metadata": {
        "colab": {
          "base_uri": "https://localhost:8080/"
        },
        "id": "akYgIOMrMnAT",
        "outputId": "318251f5-109e-4c21-e3cc-b451530e66ea"
      },
      "outputs": [
        {
          "data": {
            "text/plain": [
              "False"
            ]
          },
          "execution_count": 24,
          "metadata": {},
          "output_type": "execute_result"
        }
      ],
      "source": [
        "nlp.vocab['thou'].is_stop"
      ]
    },
    {
      "cell_type": "code",
      "execution_count": null,
      "metadata": {
        "colab": {
          "base_uri": "https://localhost:8080/"
        },
        "id": "Ecc2BXgoNPbQ",
        "outputId": "387d35dd-b3c4-43da-f3a1-0dbd96545d27"
      },
      "outputs": [
        {
          "data": {
            "text/plain": [
              "False"
            ]
          },
          "execution_count": 25,
          "metadata": {},
          "output_type": "execute_result"
        }
      ],
      "source": [
        "nlp.vocab['mystery'].is_stop"
      ]
    },
    {
      "cell_type": "code",
      "execution_count": null,
      "metadata": {
        "id": "xa0UyJ8FNjNY"
      },
      "outputs": [],
      "source": [
        "nlp.Defaults.stop_words.add('mystery')"
      ]
    },
    {
      "cell_type": "code",
      "execution_count": null,
      "metadata": {
        "colab": {
          "background_save": true
        },
        "id": "lZU54pmSOCgZ",
        "outputId": "46b81163-d5c2-429f-b112-9959f1c0da55"
      },
      "outputs": [
        {
          "data": {
            "text/plain": [
              "327"
            ]
          },
          "execution_count": 27,
          "metadata": {},
          "output_type": "execute_result"
        }
      ],
      "source": [
        "len(nlp.Defaults.stop_words)"
      ]
    }
  ],
  "metadata": {
    "colab": {
      "provenance": [],
      "authorship_tag": "ABX9TyM5yD4GBQqMlCITanqr9vX4",
      "include_colab_link": true
    },
    "kernelspec": {
      "display_name": "Python 3",
      "name": "python3"
    },
    "language_info": {
      "name": "python"
    }
  },
  "nbformat": 4,
  "nbformat_minor": 0
}