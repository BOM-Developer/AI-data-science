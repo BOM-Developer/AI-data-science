{
  "nbformat": 4,
  "nbformat_minor": 0,
  "metadata": {
    "colab": {
      "provenance": [],
      "authorship_tag": "ABX9TyNIvr/Q8DSvozJMOHtQiQOe",
      "include_colab_link": true
    },
    "kernelspec": {
      "name": "python3",
      "display_name": "Python 3"
    },
    "language_info": {
      "name": "python"
    }
  },
  "cells": [
    {
      "cell_type": "markdown",
      "metadata": {
        "id": "view-in-github",
        "colab_type": "text"
      },
      "source": [
        "<a href=\"https://colab.research.google.com/github/BOM-Developer/AI-data-science/blob/main/pandas_Analysis_Dasboard.ipynb\" target=\"_parent\"><img src=\"https://colab.research.google.com/assets/colab-badge.svg\" alt=\"Open In Colab\"/></a>"
      ]
    },
    {
      "cell_type": "markdown",
      "source": [
        "# **Data Analysis with Pandas - Summary Dashboard**"
      ],
      "metadata": {
        "id": "Bg_1c8Oyt7q8"
      }
    },
    {
      "cell_type": "markdown",
      "source": [
        "## **Basic Data Handling**\n",
        "\n",
        "Creation of one-dimensional and two-dimensional data structures like Series and DataFrames.\n",
        "Example of creating Series:"
      ],
      "metadata": {
        "id": "YIZDgmsfuduV"
      }
    },
    {
      "cell_type": "code",
      "source": [
        "#Example of creating Series\n",
        "phones = pd.Series(['iPhone', 'Samsung', 'Q', 'Nokia'])"
      ],
      "metadata": {
        "id": "iUxJny-q04jr"
      },
      "execution_count": null,
      "outputs": []
    },
    {
      "cell_type": "code",
      "source": [
        "# Creation of DataFrame from dictionaries\n",
        "df1 = pd.DataFrame({'Books': [\"data science\"], 'NoteBooks': [\"Assignments\"]}, index=['Material'])"
      ],
      "metadata": {
        "id": "vq64CDoYvBfz"
      },
      "execution_count": null,
      "outputs": []
    },
    {
      "cell_type": "markdown",
      "source": [
        "### **Data Importing and Viewing**\n",
        "\n",
        "Importing data from CSV files and displaying the first few rows of the DataFrame."
      ],
      "metadata": {
        "id": "bR0wt619vl5W"
      }
    },
    {
      "cell_type": "code",
      "source": [
        "# Example of reading a CSV file\n",
        "phones = pd.read_csv(\"/content/mobile_phones.csv\")\n"
      ],
      "metadata": {
        "id": "bWZBnR8fvvmf"
      },
      "execution_count": null,
      "outputs": []
    },
    {
      "cell_type": "markdown",
      "source": [
        "* Viewing data using .head(), .describe(), and accessing specific columns.\n",
        "Data Describing and Analysis\n",
        "\n",
        "* Using methods like .describe(), .info(), and .dtypes to understand data structure and statistics.\n",
        "Applying basic statistical functions like .mean(), .max(), and .min() to columns.\n",
        "## **Data Selection and Filtering**\n",
        "\n",
        "* Selection using .loc[], .iloc[], and conditional filtering.\n",
        "Example of filtering data:"
      ],
      "metadata": {
        "id": "kHBmq8r_wIXH"
      }
    },
    {
      "cell_type": "code",
      "source": [
        "high_price_phones = phones[phones['price($)'] > 800]\n"
      ],
      "metadata": {
        "id": "BxVwxYfQwYhw"
      },
      "execution_count": null,
      "outputs": []
    },
    {
      "cell_type": "markdown",
      "source": [
        "## **Data Aggregation and Grouping**\n",
        "\n",
        "Grouping data based on specific columns and calculating aggregate statistics.\n",
        "Example of grouping and averaging:"
      ],
      "metadata": {
        "id": "3iboT4oewkYr"
      }
    },
    {
      "cell_type": "code",
      "source": [
        "brand_avg = phones.groupby(['brand']).mean()\n"
      ],
      "metadata": {
        "id": "PJDJiv-Ywt6i"
      },
      "execution_count": null,
      "outputs": []
    },
    {
      "cell_type": "markdown",
      "source": [
        "## **Data Visualization**\n",
        "\n",
        "Generating simple plots like histograms and line plots to visualize the data distribution.\n",
        "Example of plotting price data:"
      ],
      "metadata": {
        "id": "vJLBanq2w0QW"
      }
    },
    {
      "cell_type": "code",
      "source": [
        "phones['price($)'].plot()\n"
      ],
      "metadata": {
        "id": "HgxWQeB5xCjS"
      },
      "execution_count": null,
      "outputs": []
    },
    {
      "cell_type": "markdown",
      "source": [
        "## **Data Manipulation**\n",
        "\n",
        "Changing column values, handling missing data, and adding/removing columns.\n",
        "Example of replacing column values and handling missing data:"
      ],
      "metadata": {
        "id": "GuDT7J6MxMiP"
      }
    },
    {
      "cell_type": "code",
      "source": [
        "mobiles['price($)'] = mobiles['price($)'].str.replace('$', '').astype(float)\n",
        "mobiles['storage(GB)'].fillna(mobiles['storage(GB)'].mean(), inplace=True)\n"
      ],
      "metadata": {
        "id": "L_MZBd-FxRC5"
      },
      "execution_count": null,
      "outputs": []
    },
    {
      "cell_type": "markdown",
      "source": [
        "## **Advanced Data Operations**\n",
        "\n",
        "Techniques such as data filtering, applying functions with .apply(), and data frame merging/joining.\n",
        "Example of using lambda functions for data manipulation:"
      ],
      "metadata": {
        "id": "iZ9doml1xaiM"
      }
    },
    {
      "cell_type": "code",
      "source": [
        "mobiles['weight(g)'] = mobiles['weight(g)'].apply(lambda x: x * 1000)\n"
      ],
      "metadata": {
        "id": "R3Yu4GJuxgTM"
      },
      "execution_count": null,
      "outputs": []
    }
  ]
}